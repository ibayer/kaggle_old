{
 "metadata": {
  "name": "data exploration"
 },
 "nbformat": 3,
 "nbformat_minor": 0,
 "worksheets": [
  {
   "cells": [
    {
     "cell_type": "code",
     "collapsed": false,
     "input": [
      "import json\n",
      "\n",
      "def load_dataset(fname):\n",
      "    return json.loads(open('data/TrainingSet/' + fname, 'r').read())['TextItem']\n",
      "\n",
      "trainset = load_dataset('training-annotated-text.json')\n",
      "#trainset_unsup = load_dataset('training-non-annotated-text.json')"
     ],
     "language": "python",
     "metadata": {},
     "outputs": [],
     "prompt_number": 1
    },
    {
     "cell_type": "code",
     "collapsed": false,
     "input": [
      "from collections import Counter\n",
      "\n",
      "def non_ntons(trainset, n):\n",
      "    cnt = Counter(tok for message in trainset.itervalues() for tok in message)\n",
      "    return [tok for tok, freq in cnt.iteritems() if freq > n]\n",
      "\n",
      "print(len(non_ntons(trainset, 0)))\n",
      "print(len(non_ntons(trainset, 1)))\n",
      "print(len(non_ntons(trainset, 2)))\n",
      "print(len(non_ntons(trainset, 3)))\n",
      "\n",
      "#print(len(non_ntons(trainset_unsup, 0)))\n",
      "#print(len(non_ntons(trainset_unsup, 1)))\n",
      "#print(len(non_ntons(trainset_unsup, 2)))\n",
      "#print(len(non_ntons(trainset_unsup, 3)))"
     ],
     "language": "python",
     "metadata": {},
     "outputs": [
      {
       "output_type": "stream",
       "stream": "stdout",
       "text": [
        "37747\n",
        "14878"
       ]
      },
      {
       "output_type": "stream",
       "stream": "stdout",
       "text": [
        "\n",
        "9265"
       ]
      },
      {
       "output_type": "stream",
       "stream": "stdout",
       "text": [
        "\n",
        "6799"
       ]
      },
      {
       "output_type": "stream",
       "stream": "stdout",
       "text": [
        "\n"
       ]
      }
     ],
     "prompt_number": 2
    },
    {
     "cell_type": "code",
     "collapsed": false,
     "input": [
      "print(\"whole thing: \" + str(' '.join(trainset[\"9831f816cd3678a10993e13b1b0f0c00\"])))\n",
      "print(\"\")\n",
      "print(\"product mention (+context): \" + str(trainset[\"9831f816cd3678a10993e13b1b0f0c00\"][44:48]))\n",
      "print(\"product mention: \" + str(trainset[\"9831f816cd3678a10993e13b1b0f0c00\"][32:36]))\n",
      "print(\"product mention: \" + str(trainset[\"9831f816cd3678a10993e13b1b0f0c00\"][50:54]))\n",
      "print(\"product mention: \" + str(trainset[\"9831f816cd3678a10993e13b1b0f0c00\"][57:60]))\n",
      "print(\"product mention (*im Katalog: KY0jmObDCxo*): \" + str(trainset[\"9831f816cd3678a10993e13b1b0f0c00\"][61:64]))\n",
      "print(\"product mention: \" + str(trainset[\"9831f816cd3678a10993e13b1b0f0c00\"][65:69]))\n",
      "print(\"product mention: \" + str(trainset[\"9831f816cd3678a10993e13b1b0f0c00\"][70:73]))\n",
      "print(\"product mention: \" + str(trainset[\"9831f816cd3678a10993e13b1b0f0c00\"][80:81]))\n",
      "print(\"\")\n",
      "print(\"whole thing: \" + str(' '.join(trainset[\"8c8e3756f1c2e33e2bdf17cff0c41344\"])))\n",
      "print(\"product mention: \" + str(trainset[\"8c8e3756f1c2e33e2bdf17cff0c41344\"][38:41]))"
     ],
     "language": "python",
     "metadata": {},
     "outputs": [
      {
       "output_type": "stream",
       "stream": "stdout",
       "text": [
        "whole thing: Quote : Originally Posted by thugnegro hey guys im currently looking for and upgrade of my system . <s> but i cant decide which one to go for . <s> A used Klipsch High-End 5.1 Speaker System a guy is selling me or a new Pioneer SP-PK21BS . <s> the Klipsch High-End 5.1 Speaker System has : 2-Klipsch RF-15 Reference Series 2-Klipsch RS-25 Rear Speakers 1-Klipsch RC-25 Reference Series Center 1-Klipsch RPW-10 Reference Series All of this for 250 the Pioneer SP-PK21BS . <s> is 399 i know the Klipsch are a lil old and the pioneer are gonna be new . <s> So i just wanna know even when the Klipsch are old would it be a smart to buy them at that price ? <s> or woul it be better to go for the pioneer ? <s> Unless the speakers are damaged I would pay $250 for the Klipsch because that sounds like a really good deal , but fwiw , that isn't considered a Klipsch \" High end system. \" Later on if you wanted to upgrade your mains to a Klipsch high end system you could use some of those other speakers in the mix . <s> Good Luck and welcome to the forum .\n",
        "\n",
        "product mention (+context): [u'new', u'Pioneer', u'SP-PK21BS', u'.']\n",
        "product mention: [u'Klipsch', u'High-End', u'5.1', u'Speaker']\n",
        "product mention: [u'Klipsch', u'High-End', u'5.1', u'Speaker']\n",
        "product mention: [u'2-Klipsch', u'RF-15', u'Reference']\n",
        "product mention (*im Katalog: KY0jmObDCxo*): [u'2-Klipsch', u'RS-25', u'Rear']\n",
        "product mention: [u'1-Klipsch', u'RC-25', u'Reference', u'Series']\n",
        "product mention: [u'1-Klipsch', u'RPW-10', u'Reference']\n",
        "product mention: [u'Pioneer']\n",
        "\n",
        "whole thing: WTS Lowepro Adventura 140 VR-Zone VR-Zone ( ) Pricewatch SGCafe Photo Galleries Forums [ Register your Account Now! ] Remember me ! <s> VR-Zone Forums | Classified Section | Singapore Marketplace / Garage Sales | Cameras Garage WTS Lowepro Adventura 140 Printer Friendly View | Email this page | Register Now to start posting ! <s> therry_Fx Registered User Join Date : Oct 2009 Posts : 229 Trade rep : 1 ( 100% ) Infractions : 0/0 ( 0 ) Thanked 1 Times in 1 Post WTS Lowepro Adventura 140 therry_Fx Jul 17th , 11 , 04:22 PM # 1 selling Lowepro Adventura 140 , with sony Alpha logo . <s> The bag is in mint condition . <s> Price : $20 Deal @ outram park mrts ( 11am-11pm ) ( The image is from lowepro website. ) Share| Last edited by therry_Fx ; Jul 25th , 11 at 11:25 PM.. therry_Fx Registered User Join Date : Oct 2009 Posts : 229 Trade rep : 1 ( 100% ) Infractions : 0/0 ( 0 ) Thanked 1 Times in 1 Post therry_Fx Jul 18th , 11 , 09:33 PM # 2 up.. therry_Fx Registered User Join Date : Oct 2009 Posts : 229 Trade rep : 1 ( 100% ) Infractions : 0/0 ( 0 ) Thanked 1 Times in 1 Post therry_Fx Jul 21st , 11 , 04:17 PM # 3 up.. therry_Fx Registered User Join Date : Oct 2009 Posts : 229 Trade rep : 1 ( 100% ) Infractions : 0/0 ( 0 ) Thanked 1 Times in 1 Post therry_Fx Jul 22nd , 11 , 03:07 PM # 4 up.. . therry_Fx Registered User Join Date : Oct 2009 Posts : 229 Trade rep : 1 ( 100% ) Infractions : 0/0 ( 0 ) Thanked 1 Times in 1 Post therry_Fx Jul 23rd , 11 , 09:15 AM # 5 up.. . therry_Fx Registered User Join Date : Oct 2009 Posts : 229 Trade rep : 1 ( 100% ) Infractions : 0/0 ( 0 ) Thanked 1 Times in 1 Post therry_Fx Jul 24th , 11 , 11:02 PM # 6 so sorry , was out of town , currently the bag is reserved alrd , will update again tomorrow . <s> thanks . <s> therry_Fx Registered User Join Date : Oct 2009 Posts : 229 Trade rep : 1 ( 100% ) Infractions : 0/0 ( 0 ) Thanked 1 Times in 1 Post therry_Fx Jul 25th , 11 , 11:25 PM # 7 sold to a nice couple . <s> Thanks to any interest . <s> Brand New!!! ! <s> HOYA HMC Slim 77mm UV Filter& B+W MRC XS-PRO&F-PRO 010M UV Filter | Fujifilm FinePix F200EXR Digital Camera Top VRForums | Classified Section | Singapore Marketplace / Garage Sales | Cameras Garage > WTS Lowepro Adventura 140 Similar Threads New Thread | <P> Similar Threads Similar Threads Thread Starter Forum Replies Last Post [ CLOSED ] Lowepro Clips 140 Camera Bag chly3001 Cameras Garage 1 Jun 8th , 11 08:04 PM WTS Lowepro Mini Trekker & Adventura 140 therry_Fx Cameras Garage 3 May 4th , 11 02:24 PM [ SOLD ] Lowepro CompuDaypack & Lowepro StealthReporter D100 AW jeromoo Cameras Garage 7 Apr 12th , 11 10:51 AM WTS : Bag-Lowepro TX 20 crabcarol0111 Cameras Garage 30 Feb 28th , 11 12:49 PM WTSell : Bags - Lowepro Lowepro Rezo AW190 camera bag exing Cameras Garage 4 Jan 6th , 10 10:32 AM Thread Tools Display Modes Show Printable Version Email this Page Linear Mode Switch to Hybrid Mode Switch to Threaded Mode - - VRSkin3 - - Gamers Powered by vBulletin Copyright 2000 - 2012 , Jelsoft Enterprises Ltd . <s> All times are GMT +8 . <s> The time now is 10:17 AM . <s> Contact Us | VR-Zone.com | Forum Rules <P> VR Media Pte Ltd 2000-2012 . <s> Bandwidth sponsored by Superinternet Designed by Bluerainstudios VRForums 2.0 Upload Photos VRChat View All New Posts My Profile User CP PM Subscriptions Viewing Options Moderators ( VRForums for iOS ) ( VRForums for Android ) Foxconn chief talks Apple iTV Apple may ditch Google Maps U.S. Postal Service bans overseas mailing of Lithium-ion devices , effective May 16th J&W readies up nano-ITX sized M001 Cedar Trail nettop Coolermaster Trigger Mechanical Gaming Keyboard Review Samsung announces the Omnia M Windows Phone 7 smartphone Belkin is working on 802.11ac Wi-Fi products Microsoft to launch Internet Explorer with Kinect support on Xbox 360 More Awesomeness.. . Advertisement Advertise with VR today ! <s> LinkBack LinkBack URL About LinkBacks\n",
        "product mention: [u'Lowepro', u'Adventura', u'140']\n"
       ]
      }
     ],
     "prompt_number": 3
    },
    {
     "cell_type": "code",
     "collapsed": false,
     "input": [
      "class Foo:\n",
      "    def _repr_html_(self):\n",
      "        return 'Quote : Originally Posted by thugnegro hey guys im currently looking for and upgrade of my system . but i cant decide which one to go for . A used <span style=\"color: green;\">Klipsch High-End 5.1 Speaker System</span> a guy is selling me or a new <span style=\"color: green;\">Pioneer SP-PK21BS .</span> the <span style=\"color: green;\">Klipsch High-End 5.1 Speaker System</span> has : <span style=\"color: green;\">2-Klipsch RF-15 Reference Series</span> <span style=\"background-color: rgb(255,187,187);\">2-Klipsch RS-25 Rear Speakers</span> <span style=\"color: green;\">1-Klipsch RC-25 Reference Series Center</span> <span style=\"color: green;\">1-Klipsch RPW-10 Reference Series</span> All of this for 250 the <span style=\"color: green;\">Pioneer SP-PK21BS</span> . is 399 i know the Klipsch are a lil old and the pioneer are gonna be new . So i just wanna know even when the Klipsch are old would it be a smart to buy them at that price ? or woul it be better to go for the pioneer ? Unless the speakers are damaged I would pay $250 for the Klipsch because that sounds like a really good deal , but fwiw , that isn\\'t considered a Klipsch \" High end system. \" Later on if you wanted to upgrade your mains to a Klipsch high end system you could use some of those other speakers in the mix . Good Luck and welcome to the forum .'\n",
      "    \n",
      "    # http://wakelift.de/posts/ipynb/\n",
      "\n",
      "Foo()"
     ],
     "language": "python",
     "metadata": {},
     "outputs": [
      {
       "html": [
        "Quote : Originally Posted by thugnegro hey guys im currently looking for and upgrade of my system . but i cant decide which one to go for . A used <span style=\"color: green;\">Klipsch High-End 5.1 Speaker System</span> a guy is selling me or a new <span style=\"color: green;\">Pioneer SP-PK21BS .</span> the <span style=\"color: green;\">Klipsch High-End 5.1 Speaker System</span> has : <span style=\"color: green;\">2-Klipsch RF-15 Reference Series</span> <span style=\"background-color: rgb(255,187,187);\">2-Klipsch RS-25 Rear Speakers</span> <span style=\"color: green;\">1-Klipsch RC-25 Reference Series Center</span> <span style=\"color: green;\">1-Klipsch RPW-10 Reference Series</span> All of this for 250 the <span style=\"color: green;\">Pioneer SP-PK21BS</span> . is 399 i know the Klipsch are a lil old and the pioneer are gonna be new . So i just wanna know even when the Klipsch are old would it be a smart to buy them at that price ? or woul it be better to go for the pioneer ? Unless the speakers are damaged I would pay $250 for the Klipsch because that sounds like a really good deal , but fwiw , that isn't considered a Klipsch \" High end system. \" Later on if you wanted to upgrade your mains to a Klipsch high end system you could use some of those other speakers in the mix . Good Luck and welcome to the forum ."
       ],
       "output_type": "pyout",
       "prompt_number": 9,
       "text": [
        "<__main__.Foo instance at 0x1058b1710>"
       ]
      }
     ],
     "prompt_number": 9
    },
    {
     "cell_type": "code",
     "collapsed": false,
     "input": [],
     "language": "python",
     "metadata": {},
     "outputs": []
    }
   ],
   "metadata": {}
  }
 ]
}